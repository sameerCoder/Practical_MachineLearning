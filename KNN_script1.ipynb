{
  "nbformat": 4,
  "nbformat_minor": 0,
  "metadata": {
    "colab": {
      "name": "KNN_script1.ipynb",
      "provenance": [],
      "authorship_tag": "ABX9TyPOOWqXXzS1/xWS4AEaZyfs"
    },
    "kernelspec": {
      "name": "python3",
      "display_name": "Python 3"
    },
    "language_info": {
      "name": "python"
    }
  },
  "cells": [
    {
      "cell_type": "code",
      "execution_count": null,
      "metadata": {
        "id": "wBdAZv62p9HB"
      },
      "outputs": [],
      "source": [
        "# modules\n",
        "import pandas as pd\n",
        "import numpy as np\n",
        "import matplotlib.pyplot as plt\n",
        "from sklearn.cluster import KMeans\n",
        "%matplotlib inline"
      ]
    },
    {
      "cell_type": "code",
      "source": [
        "# Generate random data\n",
        "x=-2*np.random.rand(100,2)\n",
        "x1=1+2*np.random.rand(50,2)\n",
        "x[50:100,:]=x1\n",
        "plt.scatter(x[:,0],x[:,1],s=50,c='b')\n",
        "plt.show()"
      ],
      "metadata": {
        "colab": {
          "base_uri": "https://localhost:8080/",
          "height": 265
        },
        "id": "w95_dy3EqTuj",
        "outputId": "ae4ea6d9-7248-4db5-f0b2-462e1d55bb9a"
      },
      "execution_count": null,
      "outputs": [
        {
          "output_type": "display_data",
          "data": {
            "image/png": "[encoded data removed]",
            "text/plain": [
              "<Figure size 432x288 with 1 Axes>"
            ]
          },
          "metadata": {
            "needs_background": "light"
          }
        }
      ]
    },
    {
      "cell_type": "code",
      "source": [
        "from sklearn.cluster import KMeans\n",
        "Kmean=KMeans(n_clusters=2)\n",
        "Kmean.fit(x)"
      ],
      "metadata": {
        "colab": {
          "base_uri": "https://localhost:8080/"
        },
        "id": "LYow5mM0qzh7",
        "outputId": "ef17e291-9798-4598-c1df-47b54385c736"
      },
      "execution_count": null,
      "outputs": [
        {
          "output_type": "execute_result",
          "data": {
            "text/plain": [
              "KMeans(n_clusters=2)"
            ]
          },
          "metadata": {},
          "execution_count": 3
        }
      ]
    },
    {
      "cell_type": "code",
      "source": [
        "# output of the k-means parameters\n",
        "# Here is the code for finding the center of the clusters:\n",
        "Kmean.cluster_centers_\n",
        "\n",
        "#below data are the result of the value of the centroids:\n",
        "'''\n",
        "array([[ 2.039537  ,  1.97988948],\n",
        "       [-1.05794768, -0.98980058]])'''"
      ],
      "metadata": {
        "colab": {
          "base_uri": "https://localhost:8080/"
        },
        "id": "lnsSyV-bqzwu",
        "outputId": "c14e4fa6-f1b2-4d2e-ddcd-4aeee7aa9a13"
      },
      "execution_count": null,
      "outputs": [
        {
          "output_type": "execute_result",
          "data": {
            "text/plain": [
              "array([[ 2.039537  ,  1.97988948],\n",
              "       [-1.05794768, -0.98980058]])"
            ]
          },
          "metadata": {},
          "execution_count": 4
        }
      ]
    },
    {
      "cell_type": "code",
      "source": [
        "# display the cluster centroids (using green and red color)\n",
        "plt.scatter(x[:,0],x[:,1],s=50,c='b')\n",
        "plt.scatter(2.039537  ,  1.97988948,s=200,c='g',marker='s')\n",
        "plt.scatter(-1.05794768, -0.98980058,s=200,c='r',marker='s')\n",
        "plt.show()"
      ],
      "metadata": {
        "colab": {
          "base_uri": "https://localhost:8080/",
          "height": 265
        },
        "id": "fqZf6oofrjEG",
        "outputId": "7bc2bc20-97d3-4052-dd00-372dabff8da1"
      },
      "execution_count": null,
      "outputs": [
        {
          "output_type": "display_data",
          "data": {
            "image/png": "[encoded data removed]",
            "text/plain": [
              "<Figure size 432x288 with 1 Axes>"
            ]
          },
          "metadata": {
            "needs_background": "light"
          }
        }
      ]
    },
    {
      "cell_type": "code",
      "source": [
        "# The data points are categorized into the two clusters.\n",
        "Kmean.labels_\n",
        "# show the datapoints values.\n",
        "'''50 data points belong to the 0 cluster while the rest belong to the 1 cluster.'''"
      ],
      "metadata": {
        "colab": {
          "base_uri": "https://localhost:8080/"
        },
        "id": "jtFfMnSDsLms",
        "outputId": "3c35a7be-569e-48f4-ddf9-9e9745b7501e"
      },
      "execution_count": null,
      "outputs": [
        {
          "output_type": "execute_result",
          "data": {
            "text/plain": [
              "array([1, 1, 1, 1, 1, 1, 1, 1, 1, 1, 1, 1, 1, 1, 1, 1, 1, 1, 1, 1, 1, 1,\n",
              "       1, 1, 1, 1, 1, 1, 1, 1, 1, 1, 1, 1, 1, 1, 1, 1, 1, 1, 1, 1, 1, 1,\n",
              "       1, 1, 1, 1, 1, 1, 0, 0, 0, 0, 0, 0, 0, 0, 0, 0, 0, 0, 0, 0, 0, 0,\n",
              "       0, 0, 0, 0, 0, 0, 0, 0, 0, 0, 0, 0, 0, 0, 0, 0, 0, 0, 0, 0, 0, 0,\n",
              "       0, 0, 0, 0, 0, 0, 0, 0, 0, 0, 0, 0], dtype=int32)"
            ]
          },
          "metadata": {},
          "execution_count": 6
        }
      ]
    },
    {
      "cell_type": "code",
      "source": [
        "# Now create new data points and predict their cluster.\n",
        "sample_test=np.array([-3.0,-3.0])\n",
        "second_test=sample_test.reshape(1,-1) # 1 dimensional\n",
        "Kmean.predict(second_test)"
      ],
      "metadata": {
        "colab": {
          "base_uri": "https://localhost:8080/"
        },
        "id": "GjPALIlpsL1_",
        "outputId": "8df469d7-7c61-468e-e845-0729bbb13619"
      },
      "execution_count": null,
      "outputs": [
        {
          "output_type": "execute_result",
          "data": {
            "text/plain": [
              "array([1], dtype=int32)"
            ]
          },
          "metadata": {},
          "execution_count": 7
        }
      ]
    },
    {
      "cell_type": "code",
      "source": [
        "# Result show that datapoint belongs to cluster 1 array([1], dtype=int32)"
      ],
      "metadata": {
        "id": "DxYjCcG5tOii"
      },
      "execution_count": null,
      "outputs": []
    },
    {
      "cell_type": "code",
      "source": [
        ""
      ],
      "metadata": {
        "id": "x_XTZjk8rjTX"
      },
      "execution_count": null,
      "outputs": []
    },
    {
      "cell_type": "code",
      "source": [
        ""
      ],
      "metadata": {
        "id": "sVtAeLMzrcQY"
      },
      "execution_count": null,
      "outputs": []
    },
    {
      "cell_type": "code",
      "source": [
        "# Wrapping the script.\n",
        "import pandas as pd\n",
        "import numpy as np\n",
        "import matplotlib.pyplot as plt\n",
        "from sklearn.cluster import KMeans\n",
        "%matplotlib inline\n",
        "X= -2 * np.random.rand(100,2)\n",
        "X1 = 1 + 2 * np.random.rand(50,2)\n",
        "X[50:100, :] = X1\n",
        "plt.scatter(X[ : , 0], X[ :, 1], s = 50, c = 'b')\n",
        "plt.show()\n",
        "from sklearn.cluster import KMeans\n",
        "Kmean = KMeans(n_clusters=2)\n",
        "Kmean.fit(X)\n",
        "print(\"centers:\",Kmean.cluster_centers_)\n",
        "plt.scatter(X[ : , 0], X[ : , 1], s =50, c='b')\n",
        "plt.scatter(1.96134368 , 2.14233371, s=200, c='g', marker='s')\n",
        "plt.scatter(-1.04447561, -0.98724225, s=200, c='r', marker='s')\n",
        "plt.show()\n",
        "Kmean.labels_\n",
        "sample_test=np.array([-3.0,-3.0])\n",
        "second_test=sample_test.reshape(1, -1)\n",
        "Kmean.predict(second_test)\n",
        "# New datapoint belong to cluster0"
      ],
      "metadata": {
        "colab": {
          "base_uri": "https://localhost:8080/",
          "height": 565
        },
        "id": "IjD3sGURq_Qc",
        "outputId": "1b76d2ff-3aa8-4de0-8b2e-053edb41f381"
      },
      "execution_count": null,
      "outputs": [
        {
          "output_type": "display_data",
          "data": {
            "image/png": "[encoded data removed]",
            "text/plain": [
              "<Figure size 432x288 with 1 Axes>"
            ]
          },
          "metadata": {
            "needs_background": "light"
          }
        },
        {
          "output_type": "stream",
          "name": "stdout",
          "text": [
            "centers: [[-1.01399009 -1.0307702 ]\n",
            " [ 1.9952545   1.8534482 ]]\n"
          ]
        },
        {
          "output_type": "display_data",
          "data": {
            "image/png": "[encoded data removed]",
            "text/plain": [
              "<Figure size 432x288 with 1 Axes>"
            ]
          },
          "metadata": {
            "needs_background": "light"
          }
        },
        {
          "output_type": "execute_result",
          "data": {
            "text/plain": [
              "array([0], dtype=int32)"
            ]
          },
          "metadata": {},
          "execution_count": 11
        }
      ]
    },
    {
      "cell_type": "code",
      "source": [
        ""
      ],
      "metadata": {
        "id": "16l4hiwJq_ZM"
      },
      "execution_count": null,
      "outputs": []
    },
    {
      "cell_type": "code",
      "source": [
        ""
      ],
      "metadata": {
        "id": "9hQFsno5q_n1"
      },
      "execution_count": null,
      "outputs": []
    },
    {
      "cell_type": "code",
      "source": [
        ""
      ],
      "metadata": {
        "id": "4jt3Luwaqz9Z"
      },
      "execution_count": null,
      "outputs": []
    },
    {
      "cell_type": "code",
      "source": [
        ""
      ],
      "metadata": {
        "id": "cIyGM3E7qfix"
      },
      "execution_count": null,
      "outputs": []
    },
    {
      "cell_type": "code",
      "source": [
        ""
      ],
      "metadata": {
        "id": "sVHBvBqjqfz9"
      },
      "execution_count": null,
      "outputs": []
    }
  ]
}