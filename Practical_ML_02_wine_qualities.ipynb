{
  "nbformat": 4,
  "nbformat_minor": 0,
  "metadata": {
    "colab": {
      "name": "Practical_ML_02_wine_qualities.ipynb",
      "provenance": [],
      "authorship_tag": "ABX9TyNxg74hib5RiptyHR0XAnII"
    },
    "kernelspec": {
      "name": "python3",
      "display_name": "Python 3"
    },
    "language_info": {
      "name": "python"
    }
  },
  "cells": [
    {
      "cell_type": "code",
      "execution_count": 13,
      "metadata": {
        "colab": {
          "base_uri": "https://localhost:8080/",
          "height": 35
        },
        "id": "CAo2OQplFcU_",
        "outputId": "47038fb1-5c65-4931-a4a9-1781ba401776"
      },
      "outputs": [
        {
          "output_type": "execute_result",
          "data": {
            "application/vnd.google.colaboratory.intrinsic+json": {
              "type": "string"
            },
            "text/plain": [
              "' \\nBased on wine different attributes, we are required to predict the quality of red wine\\nwhich is a value between 0 and 10.'"
            ]
          },
          "metadata": {},
          "execution_count": 13
        }
      ],
      "source": [
        "# This script is used to understand Overfitting.\n",
        "\n",
        "url=\"https://raw.githubusercontent.com/sameerCoder/ML_Datasets/main/winequality-red.csv\"\n",
        "''' \n",
        "Based on wine different attributes, we are required to predict the quality of red wine\n",
        "which is a value between 0 and 10.'''"
      ]
    },
    {
      "cell_type": "code",
      "source": [
        "import pandas as pd\n",
        "df=pd.read_csv(url,delimiter=';')\n",
        "print(df.head())"
      ],
      "metadata": {
        "colab": {
          "base_uri": "https://localhost:8080/"
        },
        "id": "3_IiuZfYF6ZD",
        "outputId": "b0201588-a040-4359-e162-b67821807428"
      },
      "execution_count": 14,
      "outputs": [
        {
          "output_type": "stream",
          "name": "stdout",
          "text": [
            "   fixed acidity  volatile acidity  citric acid  ...  sulphates  alcohol  quality\n",
            "0            7.4              0.70         0.00  ...       0.56      9.4        5\n",
            "1            7.8              0.88         0.00  ...       0.68      9.8        5\n",
            "2            7.8              0.76         0.04  ...       0.65      9.8        5\n",
            "3           11.2              0.28         0.56  ...       0.58      9.8        6\n",
            "4            7.4              0.70         0.00  ...       0.56      9.4        5\n",
            "\n",
            "[5 rows x 12 columns]\n"
          ]
        }
      ]
    },
    {
      "cell_type": "code",
      "source": [
        "print(\" Original quality:\\n\",df['quality'].head())"
      ],
      "metadata": {
        "colab": {
          "base_uri": "https://localhost:8080/"
        },
        "id": "hz6R0c3G2jh4",
        "outputId": "5239590f-3e00-439b-cbb7-52dd8b9971b8"
      },
      "execution_count": 15,
      "outputs": [
        {
          "output_type": "stream",
          "name": "stdout",
          "text": [
            " Original quality:\n",
            " 0    5\n",
            "1    5\n",
            "2    5\n",
            "3    6\n",
            "4    5\n",
            "Name: quality, dtype: int64\n"
          ]
        }
      ]
    },
    {
      "cell_type": "code",
      "source": [
        "'''\n",
        "We can treat this problem either as a classification problem or as a regression\n",
        "problem since wine quality is nothing but a real number between 0 and 10.'''\n",
        "# A Mapping dictionary that maps the quality values from 0 to 5\n",
        "quality_mapping={\n",
        "    3:0,\n",
        "    4:1,\n",
        "    5:2,\n",
        "    6:3,\n",
        "    7:4,\n",
        "    8:5\n",
        "}\n",
        "# use map function of pandas with any dicitionary to convert the values in a given .\n",
        "# column to values in the dictionary.\n",
        "df.loc[:,'quality']=df.quality.map(quality_mapping)\n",
        "print(\"After using map function:\\n\",df['quality'].head())\n",
        "# Converting 5 to 2 , 3 to 0 , 4 to 1."
      ],
      "metadata": {
        "colab": {
          "base_uri": "https://localhost:8080/"
        },
        "id": "Xg6fsb8KF_By",
        "outputId": "73493fd1-8f44-4583-8e59-3934e41ba9fd"
      },
      "execution_count": 16,
      "outputs": [
        {
          "output_type": "stream",
          "name": "stdout",
          "text": [
            "After using map function:\n",
            " 0    2\n",
            "1    2\n",
            "2    2\n",
            "3    3\n",
            "4    2\n",
            "Name: quality, dtype: int64\n"
          ]
        }
      ]
    },
    {
      "cell_type": "code",
      "source": [
        "#let’s divide the data into two parts. \n",
        "#This dataset has 1599 samples. We keep 1000 samples for training and 599 as a separate set.\n",
        "# use sample with frac=1 to shuffle the dataframe.\n",
        "# we reset the indices since they change after\n",
        "# shuffling the dataframe\n",
        "df=df.sample(frac=1).reset_index(drop=True)\n",
        "\n",
        "# top 1000 rows are selected for training.\n",
        "df_train=df.head(1000)\n",
        "\n",
        "# bottom 599 values are selected\n",
        "# for testing/validation\n",
        "df_test=df.tail(599)"
      ],
      "metadata": {
        "id": "rzBZ4VblQTUe"
      },
      "execution_count": 17,
      "outputs": []
    },
    {
      "cell_type": "code",
      "source": [
        "# max depth =3\n",
        "\n",
        "# import from scikit-learn\n",
        "from sklearn import tree\n",
        "from sklearn import metrics\n",
        "\n",
        "#initialize decision tree classifier class\n",
        "# with a max_depth of 3\n",
        "clf=tree.DecisionTreeClassifier(max_depth=3)\n",
        "\n",
        "#choose the columns you want to train on\n",
        "# these are the features for the model\n",
        "cols=['fixed acidity','volatile acidity','citric acid',\n",
        "      'residual sugar','chlorides','free sulfur dioxide','total sulfur dioxide','density','pH',\n",
        "      'sulphates','alcohol']\n",
        "  # train the model on the provided features\n",
        "  # and mapped quality from before\n",
        "clf.fit(df_train[cols],df_train.quality)\n",
        "#I have used a max_depth of 3 for the decision tree classifier. I have left all other parameters of this model to its default value."
      ],
      "metadata": {
        "colab": {
          "base_uri": "https://localhost:8080/"
        },
        "id": "g2gKXDMISg8V",
        "outputId": "081a289c-7325-43cd-9e4d-717645fcb6b0"
      },
      "execution_count": 18,
      "outputs": [
        {
          "output_type": "execute_result",
          "data": {
            "text/plain": [
              "DecisionTreeClassifier(max_depth=3)"
            ]
          },
          "metadata": {},
          "execution_count": 18
        }
      ]
    },
    {
      "cell_type": "code",
      "source": [
        " #CASE 1\n",
        " #testing\n",
        "train_predictions=clf.predict(df_train[cols])\n",
        " #generate predictions on the test set\n",
        "test_predictions=clf.predict(df_test[cols])\n",
        "#calcuate the accuracy of predictions on training data set\n",
        "train_accuracy=metrics.accuracy_score(df_train.quality,train_predictions)\n",
        "#calculate the accuracy of predictions on test data set\n",
        "test_accuracy=metrics.accuracy_score(df_test.quality,test_predictions)\n",
        "\n",
        "print(\"train_accuracy:\",train_accuracy,\"test_accuracy:\",test_accuracy)"
      ],
      "metadata": {
        "colab": {
          "base_uri": "https://localhost:8080/"
        },
        "id": "5L1qHeAcNB8I",
        "outputId": "bdca392f-3953-497a-990c-2cafbe4332a2"
      },
      "execution_count": 19,
      "outputs": [
        {
          "output_type": "stream",
          "name": "stdout",
          "text": [
            "train_accuracy: 0.614 test_accuracy: 0.5909849749582637\n"
          ]
        }
      ]
    },
    {
      "cell_type": "code",
      "source": [
        ""
      ],
      "metadata": {
        "id": "jgwH0dTWTQ9y"
      },
      "execution_count": 19,
      "outputs": []
    },
    {
      "cell_type": "code",
      "source": [
        "# TO IMPROVE THE ACCURACY.\n",
        "# max depth =8\n",
        "\n",
        "# import from scikit-learn\n",
        "from sklearn import tree\n",
        "from sklearn import metrics\n",
        "\n",
        "#initialize decision tree classifier class\n",
        "# with a max_depth of 3\n",
        "clf=tree.DecisionTreeClassifier(max_depth=8)\n",
        "\n",
        "#choose the columns you want to train on\n",
        "# these are the features for the model\n",
        "cols=['fixed acidity','volatile acidity','citric acid',\n",
        "      'residual sugar','chlorides','free sulfur dioxide','total sulfur dioxide','density','pH',\n",
        "      'sulphates','alcohol']\n",
        "  # train the model on the provided features\n",
        "  # and mapped quality from before\n",
        "clf.fit(df_train[cols],df_train.quality)\n",
        "#I have used a max_depth of 3 for the decision tree classifier. \n",
        "#I have left all other parameters of this model to its default value."
      ],
      "metadata": {
        "colab": {
          "base_uri": "https://localhost:8080/"
        },
        "id": "fzMhSE2jUCzU",
        "outputId": "504755f3-a2bf-4c4c-f415-60ccf3b65b47"
      },
      "execution_count": 20,
      "outputs": [
        {
          "output_type": "execute_result",
          "data": {
            "text/plain": [
              "DecisionTreeClassifier(max_depth=8)"
            ]
          },
          "metadata": {},
          "execution_count": 20
        }
      ]
    },
    {
      "cell_type": "code",
      "source": [
        " #CASE 2\n",
        " #testing\n",
        "train_predictions=clf.predict(df_train[cols])\n",
        " #generate predictions on the test set\n",
        "test_predictions=clf.predict(df_test[cols])\n",
        "#calcuate the accuracy of predictions on training data set\n",
        "train_accuracy=metrics.accuracy_score(df_train.quality,train_predictions)\n",
        "#calculate the accuracy of predictions on test data set\n",
        "test_accuracy=metrics.accuracy_score(df_test.quality,test_predictions)\n",
        "print(\"train_accuracy:\",train_accuracy,\"test_accuracy:\",test_accuracy)"
      ],
      "metadata": {
        "colab": {
          "base_uri": "https://localhost:8080/"
        },
        "id": "cx_eC__OUQVP",
        "outputId": "5b5cc522-4237-43bd-8e04-2fd6e7da0bc7"
      },
      "execution_count": 21,
      "outputs": [
        {
          "output_type": "stream",
          "name": "stdout",
          "text": [
            "train_accuracy: 0.847 test_accuracy: 0.6010016694490818\n"
          ]
        }
      ]
    },
    {
      "cell_type": "code",
      "source": [
        "########### CHECKING MULITPLE loop DEPTH #############\n",
        "from sklearn import tree\n",
        "from sklearn import metrics\n",
        "\n",
        "import matplotlib\n",
        "import matplotlib.pyplot as plt\n",
        "import seaborn as sns\n",
        "\n",
        "# our global size of label text\n",
        "matplotlib.rc('xtick',labelsize=20)\n",
        "matplotlib.rc('ytick',labelsize=20)\n",
        "\n",
        "%matplotlib inline\n",
        "# initialize lists to store accuracies #for training and test data.\n",
        "train_accuracies=[0.5]\n",
        "test_accuracies=[0.5]\n",
        "\n",
        "import pandas as pd\n",
        "url=\"https://raw.githubusercontent.com/sameerCoder/ML_Datasets/main/winequality-red.csv\"\n",
        "df=pd.read_csv(url,delimiter=';')\n",
        "\n",
        "quality_mapping={\n",
        "    3:0,\n",
        "    4:1,\n",
        "    5:2,\n",
        "    6:3,\n",
        "    7:4,\n",
        "    8:5\n",
        "}\n",
        "# use map function of pandas with any dicitionary to convert the values in a given .\n",
        "# column to values in the dictionary.\n",
        "df.loc[:,'quality']=df.quality.map(quality_mapping)\n",
        "\n",
        "# shuffling the dataframe\n",
        "df=df.sample(frac=1).reset_index(drop=True)\n",
        "\n",
        "# top 1000 rows are selected for training.\n",
        "df_train=df.head(1000)\n",
        "\n",
        "# bottom 599 values are selected\n",
        "# for testing/validation\n",
        "df_test=df.tail(599)\n",
        "cols=['fixed acidity','volatile acidity','citric acid',\n",
        "      'residual sugar','chlorides','free sulfur dioxide','total sulfur dioxide','density','pH',\n",
        "      'sulphates','alcohol']\n",
        "\n",
        "\n",
        "\n",
        "# iterate over a few depth values\n",
        "for depth in range(1,25):\n",
        "  # initalize the model\n",
        "  clf=tree.DecisionTreeClassifier(max_depth=depth)\n",
        "  cols = [\n",
        "    'fixed acidity',\n",
        "    'volatile acidity',\n",
        "    'citric acid',\n",
        "    'residual sugar',\n",
        "    'chlorides',\n",
        "    'free sulfur dioxide',\n",
        "    'total sulfur dioxide',\n",
        "    'density',\n",
        "    'pH',\n",
        "    'sulphates',\n",
        "    'alcohol']\n",
        "\n",
        "    # fit the model on given features\n",
        "  clf.fit(df_train[cols],df_train.quality)\n",
        "   # create  training & test predictions\n",
        "  train_predictions=clf.predict(df_train[cols])\n",
        "  test_predictions = clf.predict(df_test[cols])\n",
        "  # calculate trainig & test accuracies.\n",
        "  train_accuracy=metrics.accuracy_score(df_train.quality,train_predictions)\n",
        "  test_accuracy=metrics.accuracy_score(df_test.quality,test_predictions)\n",
        "  #append accuracies\n",
        "  train_accuracies.append(train_accuracy)\n",
        "  test_accuracies.append(test_accuracy)\n",
        "# create two plots using matplotlib\n",
        "# and seaborn\n",
        "plt.figure(figsize=(10, 5))\n",
        "sns.set_style(\"whitegrid\")\n",
        "plt.plot(train_accuracies, label=\"train accuracy\")\n",
        "plt.plot(test_accuracies, label=\"test accuracy\")\n",
        "plt.legend(loc=\"upper left\", prop={'size': 15})\n",
        "plt.xticks(range(0, 26, 5))\n",
        "plt.xlabel(\"max_depth\", size=20)\n",
        "plt.ylabel(\"accuracy\", size=20)\n",
        "plt.show()"
      ],
      "metadata": {
        "colab": {
          "base_uri": "https://localhost:8080/",
          "height": 353
        },
        "id": "KcTXRLyksOQ7",
        "outputId": "7f6dca08-f5fc-46ad-8d9f-89e502342ca2"
      },
      "execution_count": 4,
      "outputs": [
        {
          "output_type": "display_data",
          "data": {
            "image/png": "[encoded data removed]",
            "text/plain": [
              "<Figure size 720x360 with 1 Axes>"
            ]
          },
          "metadata": {
            "needs_background": "light"
          }
        }
      ]
    },
    {
      "cell_type": "code",
      "source": [
        "#overfitting - Train Result is best but Test Result is worst.\n",
        "We see that the best score for test data is obtained when max_depth has a value of\n",
        "14. As we keep increasing the value of this parameter, test accuracy remains the\n",
        "same or gets worse, but the training accuracy keeps increasing. It means that our\n",
        "simple decision tree model keeps learning about the training data better and better\n",
        "with an increase in max_depth, but the performance on test data does not improve\n",
        "at all."
      ],
      "metadata": {
        "id": "KYHi16W30jL2"
      },
      "execution_count": null,
      "outputs": []
    },
    {
      "cell_type": "code",
      "source": [
        "#The model fits perfectly on the training set and performs poorly when it comes to the test set. \n",
        "#This means that the model will learn the training data well but will not generalize on unseen samples."
      ],
      "metadata": {
        "id": "HCk6VDpq0zod"
      },
      "execution_count": null,
      "outputs": []
    },
    {
      "cell_type": "code",
      "source": [
        ""
      ],
      "metadata": {
        "id": "-7vdyp7_4yia"
      },
      "execution_count": null,
      "outputs": []
    }
  ]
}