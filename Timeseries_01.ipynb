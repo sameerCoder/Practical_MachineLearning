{
  "nbformat": 4,
  "nbformat_minor": 0,
  "metadata": {
    "colab": {
      "name": "Timeseries_01.ipynb",
      "provenance": [],
      "authorship_tag": "ABX9TyN0UtzeQ8GiBW585JhtYdcS"
    },
    "kernelspec": {
      "name": "python3",
      "display_name": "Python 3"
    },
    "language_info": {
      "name": "python"
    }
  },
  "cells": [
    {
      "cell_type": "code",
      "execution_count": null,
      "metadata": {
        "id": "ZtrS_jetdvj9"
      },
      "outputs": [],
      "source": [
        "import pandas as pd\n",
        "url=\"https://raw.githubusercontent.com/sameerCoder/ML_Datasets/main/stock_price_csv1.csv\"\n",
        "stockdf=pd.read_csv(url)"
      ]
    },
    {
      "cell_type": "code",
      "source": [
        "stockdf.head()"
      ],
      "metadata": {
        "colab": {
          "base_uri": "https://localhost:8080/",
          "height": 206
        },
        "id": "TQPCkblefOj6",
        "outputId": "af63ef71-4968-4e75-8716-c5963278707b"
      },
      "execution_count": null,
      "outputs": [
        {
          "output_type": "execute_result",
          "data": {
            "text/html": [
              "\n",
              "  <div id=\"df-77449f0d-c404-4ea5-88a4-c8a1d23e3479\">\n",
              "    <div class=\"colab-df-container\">\n",
              "      <div>\n",
              "<style scoped>\n",
              "    .dataframe tbody tr th:only-of-type {\n",
              "        vertical-align: middle;\n",
              "    }\n",
              "\n",
              "    .dataframe tbody tr th {\n",
              "        vertical-align: top;\n",
              "    }\n",
              "\n",
              "    .dataframe thead th {\n",
              "        text-align: right;\n",
              "    }\n",
              "</style>\n",
              "<table border=\"1\" class=\"dataframe\">\n",
              "  <thead>\n",
              "    <tr style=\"text-align: right;\">\n",
              "      <th></th>\n",
              "      <th>Date</th>\n",
              "      <th>Open</th>\n",
              "      <th>High</th>\n",
              "      <th>Low</th>\n",
              "      <th>Close</th>\n",
              "      <th>Volume</th>\n",
              "      <th>Adj Close</th>\n",
              "    </tr>\n",
              "  </thead>\n",
              "  <tbody>\n",
              "    <tr>\n",
              "      <th>0</th>\n",
              "      <td>2008-10-14</td>\n",
              "      <td>116.26</td>\n",
              "      <td>116.40</td>\n",
              "      <td>103.14</td>\n",
              "      <td>104.08</td>\n",
              "      <td>70749800</td>\n",
              "      <td>104.08</td>\n",
              "    </tr>\n",
              "    <tr>\n",
              "      <th>1</th>\n",
              "      <td>2008-10-13</td>\n",
              "      <td>104.55</td>\n",
              "      <td>110.53</td>\n",
              "      <td>101.02</td>\n",
              "      <td>110.26</td>\n",
              "      <td>54967000</td>\n",
              "      <td>110.26</td>\n",
              "    </tr>\n",
              "    <tr>\n",
              "      <th>2</th>\n",
              "      <td>2008-10-10</td>\n",
              "      <td>85.70</td>\n",
              "      <td>100.00</td>\n",
              "      <td>85.00</td>\n",
              "      <td>96.80</td>\n",
              "      <td>79260700</td>\n",
              "      <td>96.80</td>\n",
              "    </tr>\n",
              "    <tr>\n",
              "      <th>3</th>\n",
              "      <td>2008-10-09</td>\n",
              "      <td>93.35</td>\n",
              "      <td>95.80</td>\n",
              "      <td>86.60</td>\n",
              "      <td>88.74</td>\n",
              "      <td>57763700</td>\n",
              "      <td>88.74</td>\n",
              "    </tr>\n",
              "    <tr>\n",
              "      <th>4</th>\n",
              "      <td>2008-10-08</td>\n",
              "      <td>85.91</td>\n",
              "      <td>96.33</td>\n",
              "      <td>85.68</td>\n",
              "      <td>89.79</td>\n",
              "      <td>78847900</td>\n",
              "      <td>89.79</td>\n",
              "    </tr>\n",
              "  </tbody>\n",
              "</table>\n",
              "</div>\n",
              "      <button class=\"colab-df-convert\" onclick=\"convertToInteractive('df-77449f0d-c404-4ea5-88a4-c8a1d23e3479')\"\n",
              "              title=\"Convert this dataframe to an interactive table.\"\n",
              "              style=\"display:none;\">\n",
              "        \n",
              "  <svg xmlns=\"http://www.w3.org/2000/svg\" height=\"24px\"viewBox=\"0 0 24 24\"\n",
              "       width=\"24px\">\n",
              "    <path d=\"M0 0h24v24H0V0z\" fill=\"none\"/>\n",
              "    <path d=\"M18.56 5.44l.94 2.06.94-2.06 2.06-.94-2.06-.94-.94-2.06-.94 2.06-2.06.94zm-11 1L8.5 8.5l.94-2.06 2.06-.94-2.06-.94L8.5 2.5l-.94 2.06-2.06.94zm10 10l.94 2.06.94-2.06 2.06-.94-2.06-.94-.94-2.06-.94 2.06-2.06.94z\"/><path d=\"M17.41 7.96l-1.37-1.37c-.4-.4-.92-.59-1.43-.59-.52 0-1.04.2-1.43.59L10.3 9.45l-7.72 7.72c-.78.78-.78 2.05 0 2.83L4 21.41c.39.39.9.59 1.41.59.51 0 1.02-.2 1.41-.59l7.78-7.78 2.81-2.81c.8-.78.8-2.07 0-2.86zM5.41 20L4 18.59l7.72-7.72 1.47 1.35L5.41 20z\"/>\n",
              "  </svg>\n",
              "      </button>\n",
              "      \n",
              "  <style>\n",
              "    .colab-df-container {\n",
              "      display:flex;\n",
              "      flex-wrap:wrap;\n",
              "      gap: 12px;\n",
              "    }\n",
              "\n",
              "    .colab-df-convert {\n",
              "      background-color: #E8F0FE;\n",
              "      border: none;\n",
              "      border-radius: 50%;\n",
              "      cursor: pointer;\n",
              "      display: none;\n",
              "      fill: #1967D2;\n",
              "      height: 32px;\n",
              "      padding: 0 0 0 0;\n",
              "      width: 32px;\n",
              "    }\n",
              "\n",
              "    .colab-df-convert:hover {\n",
              "      background-color: #E2EBFA;\n",
              "      box-shadow: 0px 1px 2px rgba(60, 64, 67, 0.3), 0px 1px 3px 1px rgba(60, 64, 67, 0.15);\n",
              "      fill: #174EA6;\n",
              "    }\n",
              "\n",
              "    [theme=dark] .colab-df-convert {\n",
              "      background-color: #3B4455;\n",
              "      fill: #D2E3FC;\n",
              "    }\n",
              "\n",
              "    [theme=dark] .colab-df-convert:hover {\n",
              "      background-color: #434B5C;\n",
              "      box-shadow: 0px 1px 3px 1px rgba(0, 0, 0, 0.15);\n",
              "      filter: drop-shadow(0px 1px 2px rgba(0, 0, 0, 0.3));\n",
              "      fill: #FFFFFF;\n",
              "    }\n",
              "  </style>\n",
              "\n",
              "      <script>\n",
              "        const buttonEl =\n",
              "          document.querySelector('#df-77449f0d-c404-4ea5-88a4-c8a1d23e3479 button.colab-df-convert');\n",
              "        buttonEl.style.display =\n",
              "          google.colab.kernel.accessAllowed ? 'block' : 'none';\n",
              "\n",
              "        async function convertToInteractive(key) {\n",
              "          const element = document.querySelector('#df-77449f0d-c404-4ea5-88a4-c8a1d23e3479');\n",
              "          const dataTable =\n",
              "            await google.colab.kernel.invokeFunction('convertToInteractive',\n",
              "                                                     [key], {});\n",
              "          if (!dataTable) return;\n",
              "\n",
              "          const docLinkHtml = 'Like what you see? Visit the ' +\n",
              "            '<a target=\"_blank\" href=https://colab.research.google.com/notebooks/data_table.ipynb>data table notebook</a>'\n",
              "            + ' to learn more about interactive tables.';\n",
              "          element.innerHTML = '';\n",
              "          dataTable['output_type'] = 'display_data';\n",
              "          await google.colab.output.renderOutput(dataTable, element);\n",
              "          const docLink = document.createElement('div');\n",
              "          docLink.innerHTML = docLinkHtml;\n",
              "          element.appendChild(docLink);\n",
              "        }\n",
              "      </script>\n",
              "    </div>\n",
              "  </div>\n",
              "  "
            ],
            "text/plain": [
              "         Date    Open    High     Low   Close    Volume  Adj Close\n",
              "0  2008-10-14  116.26  116.40  103.14  104.08  70749800     104.08\n",
              "1  2008-10-13  104.55  110.53  101.02  110.26  54967000     110.26\n",
              "2  2008-10-10   85.70  100.00   85.00   96.80  79260700      96.80\n",
              "3  2008-10-09   93.35   95.80   86.60   88.74  57763700      88.74\n",
              "4  2008-10-08   85.91   96.33   85.68   89.79  78847900      89.79"
            ]
          },
          "metadata": {},
          "execution_count": 2
        }
      ]
    },
    {
      "cell_type": "code",
      "source": [
        "#\n",
        "print(stockdf['Date'])\n",
        "print(type(stockdf['Date']))"
      ],
      "metadata": {
        "colab": {
          "base_uri": "https://localhost:8080/"
        },
        "id": "woHXfvT4fQQ1",
        "outputId": "f181cc43-3f5a-4314-ce5d-44d2fd6af30d"
      },
      "execution_count": null,
      "outputs": [
        {
          "output_type": "stream",
          "name": "stdout",
          "text": [
            "0       2008-10-14\n",
            "1       2008-10-13\n",
            "2       2008-10-10\n",
            "3       2008-10-09\n",
            "4       2008-10-08\n",
            "           ...    \n",
            "6076    1984-09-13\n",
            "6077    1984-09-12\n",
            "6078    1984-09-11\n",
            "6079    1984-09-10\n",
            "6080    1984-09-07\n",
            "Name: Date, Length: 6081, dtype: object\n",
            "<class 'pandas.core.series.Series'>\n"
          ]
        }
      ]
    },
    {
      "cell_type": "code",
      "source": [
        "stockdf['Date']=pd.to_datetime(stockdf['Date'])\n",
        "print(stockdf['Date'])\n",
        "print(type(stockdf['Date']))\n",
        "#JUST CHECK THE DTYPE:DATETIME64"
      ],
      "metadata": {
        "colab": {
          "base_uri": "https://localhost:8080/"
        },
        "id": "FDq6KJA-fz5l",
        "outputId": "920275b9-c12a-47f5-cd74-64270b01e23c"
      },
      "execution_count": null,
      "outputs": [
        {
          "output_type": "stream",
          "name": "stdout",
          "text": [
            "0      2008-10-14\n",
            "1      2008-10-13\n",
            "2      2008-10-10\n",
            "3      2008-10-09\n",
            "4      2008-10-08\n",
            "          ...    \n",
            "6076   1984-09-13\n",
            "6077   1984-09-12\n",
            "6078   1984-09-11\n",
            "6079   1984-09-10\n",
            "6080   1984-09-07\n",
            "Name: Date, Length: 6081, dtype: datetime64[ns]\n",
            "<class 'pandas.core.series.Series'>\n"
          ]
        }
      ]
    },
    {
      "cell_type": "code",
      "source": [
        "import matplotlib.pyplot as plt\n",
        "plt.plot(stockdf['Date'],stockdf['Adj Close'])\n",
        "plt.show()"
      ],
      "metadata": {
        "colab": {
          "base_uri": "https://localhost:8080/",
          "height": 265
        },
        "id": "hhLHHTJxgOat",
        "outputId": "2807f3f0-54be-4aed-9343-472b1e0b37fc"
      },
      "execution_count": null,
      "outputs": [
        {
          "output_type": "display_data",
          "data": {
            "image/png": "[encoded data removed]",
            "text/plain": [
              "<Figure size 432x288 with 1 Axes>"
            ]
          },
          "metadata": {
            "needs_background": "light"
          }
        }
      ]
    },
    {
      "cell_type": "code",
      "source": [
        "# making index column to Date column\n",
        "stockdf.index=stockdf['Date']\n",
        "print(\"Before Delete:\",stockdf.head())\n",
        "# since Date column is repeating, so delete Date columns\n",
        "del stockdf['Date']\n",
        "print(\"After Delete:\",stockdf.head())"
      ],
      "metadata": {
        "colab": {
          "base_uri": "https://localhost:8080/"
        },
        "id": "xsJpjIVOhqJH",
        "outputId": "8f71a1d6-c9c1-420b-d5b8-656a65db406a"
      },
      "execution_count": null,
      "outputs": [
        {
          "output_type": "stream",
          "name": "stdout",
          "text": [
            "Before Delete:                  Date    Open    High     Low   Close    Volume  Adj Close\n",
            "Date                                                                      \n",
            "2008-10-14 2008-10-14  116.26  116.40  103.14  104.08  70749800     104.08\n",
            "2008-10-13 2008-10-13  104.55  110.53  101.02  110.26  54967000     110.26\n",
            "2008-10-10 2008-10-10   85.70  100.00   85.00   96.80  79260700      96.80\n",
            "2008-10-09 2008-10-09   93.35   95.80   86.60   88.74  57763700      88.74\n",
            "2008-10-08 2008-10-08   85.91   96.33   85.68   89.79  78847900      89.79\n",
            "After Delete:               Open    High     Low   Close    Volume  Adj Close\n",
            "Date                                                           \n",
            "2008-10-14  116.26  116.40  103.14  104.08  70749800     104.08\n",
            "2008-10-13  104.55  110.53  101.02  110.26  54967000     110.26\n",
            "2008-10-10   85.70  100.00   85.00   96.80  79260700      96.80\n",
            "2008-10-09   93.35   95.80   86.60   88.74  57763700      88.74\n",
            "2008-10-08   85.91   96.33   85.68   89.79  78847900      89.79\n"
          ]
        }
      ]
    },
    {
      "cell_type": "code",
      "source": [
        ""
      ],
      "metadata": {
        "id": "vy7i-9OOh7qx"
      },
      "execution_count": null,
      "outputs": []
    }
  ]
}